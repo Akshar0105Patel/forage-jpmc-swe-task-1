{
 "cells": [
  {
   "cell_type": "code",
   "execution_count": null,
   "id": "a24e454c",
   "metadata": {
    "lines_to_next_cell": 1
   },
   "outputs": [],
   "source": [
    "import unittest\n",
    "from client3 import getDataPoint, getRatio"
   ]
  },
  {
   "cell_type": "code",
   "execution_count": null,
   "id": "6f0311de",
   "metadata": {},
   "outputs": [],
   "source": [
    "class ClientTest(unittest.TestCase):\n",
    "\n",
    "    def test_getDataPoint_calculatePrice(self):\n",
    "        quotes = [\n",
    "            {'top_ask': {'price': 121.2, 'size': 36}, 'timestamp': '2019-02-11 22:06:30.572453', 'top_bid': {'price': 120.48, 'size': 109}, 'id': '0.109974697771', 'stock': 'ABC'},\n",
    "            {'top_ask': {'price': 121.68, 'size': 4}, 'timestamp': '2019-02-11 22:06:30.572453', 'top_bid': {'price': 117.87, 'size': 81}, 'id': '0.109974697771', 'stock': 'DEF'}\n",
    "        ]\n",
    "        expected_results = [\n",
    "            ('ABC', 120.48, 121.2, (120.48 + 121.2) / 2),\n",
    "            ('DEF', 117.87, 121.68, (117.87 + 121.68) / 2)\n",
    "        ]\n",
    "\n",
    "        for i, quote in enumerate(quotes):\n",
    "            self.assertEqual(getDataPoint(quote), expected_results[i])\n",
    "\n",
    "    def test_getDataPoint_calculatePriceBidGreaterThanAsk(self):\n",
    "        quotes = [\n",
    "            {'top_ask': {'price': 119.2, 'size': 36}, 'timestamp': '2019-02-11 22:06:30.572453', 'top_bid': {'price': 120.48, 'size': 109}, 'id': '0.109974697771', 'stock': 'ABC'},\n",
    "            {'top_ask': {'price': 121.68, 'size': 4}, 'timestamp': '2019-02-11 22:06:30.572453', 'top_bid': {'price': 117.87, 'size': 81}, 'id': '0.109974697771', 'stock': 'DEF'}\n",
    "        ]\n",
    "        expected_results = [\n",
    "            ('ABC', 120.48, 119.2, (120.48 + 119.2) / 2),\n",
    "            ('DEF', 117.87, 121.68, (117.87 + 121.68) / 2)\n",
    "        ]\n",
    "\n",
    "        for i, quote in enumerate(quotes):\n",
    "            self.assertEqual(getDataPoint(quote), expected_results[i])\n",
    "\n",
    "    def test_getRatio(self):\n",
    "        # Normal case\n",
    "        self.assertEqual(getRatio(100, 50), 2)\n",
    "        # Zero denominator\n",
    "        self.assertIsNone(getRatio(100, 0))\n",
    "        # Zero numerator\n",
    "        self.assertEqual(getRatio(0, 50), 0)\n",
    "        # Both zero\n",
    "        self.assertIsNone(getRatio(0, 0))\n",
    "\n",
    "if __name__ == '__main__':\n",
    "    unittest.main()\n"
   ]
  },
  {
   "cell_type": "code",
   "execution_count": null,
   "id": "0fc89fa3",
   "metadata": {},
   "outputs": [],
   "source": []
  },
  {
   "cell_type": "code",
   "execution_count": null,
   "id": "f151c178",
   "metadata": {},
   "outputs": [],
   "source": [
    "if __name__ == '__main__':\n",
    "    unittest.main()"
   ]
  }
 ],
 "metadata": {
  "jupytext": {
   "cell_metadata_filter": "-all",
   "main_language": "python",
   "notebook_metadata_filter": "-all"
  },
  "kernelspec": {
   "display_name": "Python 3 (ipykernel)",
   "language": "python",
   "name": "python3"
  },
  "language_info": {
   "codemirror_mode": {
    "name": "ipython",
    "version": 3
   },
   "file_extension": ".py",
   "mimetype": "text/x-python",
   "name": "python",
   "nbconvert_exporter": "python",
   "pygments_lexer": "ipython3",
   "version": "3.12.4"
  }
 },
 "nbformat": 4,
 "nbformat_minor": 5
}
