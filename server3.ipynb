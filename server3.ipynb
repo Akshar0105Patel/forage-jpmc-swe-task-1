{
 "cells": [
  {
   "cell_type": "code",
   "execution_count": 1,
   "id": "84e3994c",
   "metadata": {},
   "outputs": [],
   "source": [
    "%matplotlib inline"
   ]
  },
  {
   "cell_type": "markdown",
   "id": "f260fed8",
   "metadata": {
    "cell_marker": "################################################################################"
   },
   "source": [
    "\n",
    " Permission is hereby granted, free of charge, to any person obtaining a\n",
    " copy of this software and associated documentation files (the \"Software\"),\n",
    " to deal in the Software without restriction, including without limitation\n",
    " the rights to use, copy, modify, merge, publish, distribute, sublicense,\n",
    " and/or sell copies of the Software, and to permit persons to whom the\n",
    " Software is furnished to do so, subject to the following conditions:\n",
    "\n",
    " The above copyright notice and this permission notice shall be included in\n",
    " all copies or substantial portions of the Software.\n",
    "\n",
    " THE SOFTWARE IS PROVIDED \"AS IS\", WITHOUT WARRANTY OF ANY KIND, EXPRESS\n",
    " OR IMPLIED, INCLUDING BUT NOT LIMITED TO THE WARRANTIES OF MERCHANTABILITY,\n",
    " FITNESS FOR A PARTICULAR PURPOSE AND NONINFRINGEMENT. IN NO EVENT SHALL THE\n",
    " AUTHORS OR COPYRIGHT HOLDERS BE LIABLE FOR ANY CLAIM, DAMAGES OR OTHER\n",
    " LIABILITY, WHETHER IN AN ACTION OF CONTRACT, TORT OR OTHERWISE, ARISING\n",
    " FROM, OUT OF OR IN CONNECTION WITH THE SOFTWARE OR THE USE OR OTHER\n",
    " DEALINGS IN THE SOFTWARE."
   ]
  },
  {
   "cell_type": "code",
   "execution_count": 2,
   "id": "32885e9b",
   "metadata": {},
   "outputs": [],
   "source": [
    "import csv\n",
    "# from BaseHTTPServer import BaseHTTPRequestHandler,HTTPServer\n",
    "import http.server\n",
    "import json\n",
    "import operator\n",
    "import os.path\n",
    "import re\n",
    "import threading\n",
    "from datetime import timedelta, datetime\n",
    "# from itertools import izip\n",
    "from random import normalvariate, random\n",
    "from socketserver import ThreadingMixIn\n",
    "\n",
    "import dateutil.parser"
   ]
  },
  {
   "cell_type": "markdown",
   "id": "1a614b6e",
   "metadata": {
    "cell_marker": "################################################################################"
   },
   "source": [
    "\n",
    "Config"
   ]
  },
  {
   "cell_type": "code",
   "execution_count": 10,
   "id": "f4590eaa",
   "metadata": {},
   "outputs": [],
   "source": [
    "# Sim params\n",
    "\n",
    "REALTIME = True\n",
    "SIM_LENGTH = timedelta(days=365 * 5)\n",
    "MARKET_OPEN = datetime.today().replace(hour=0, minute=30, second=0)\n",
    "\n",
    "# Market parms\n",
    "#       min  / max  / std\n",
    "SPD = (2.0, 6.0, 0.1)\n",
    "PX = (60.0, 150.0, 1)\n",
    "FREQ = (12, 36, 50)\n",
    "\n",
    "# Trades\n",
    "\n",
    "OVERLAP = 4\n"
   ]
  },
  {
   "cell_type": "markdown",
   "id": "bb034f9d",
   "metadata": {
    "cell_marker": "################################################################################"
   },
   "source": [
    "\n",
    "Test Data"
   ]
  },
  {
   "cell_type": "code",
   "execution_count": 11,
   "id": "22e67fac",
   "metadata": {
    "lines_to_next_cell": 1
   },
   "outputs": [],
   "source": [
    "def bwalk(min, max, std):\n",
    "    \"\"\" Generates a bounded random walk. \"\"\"\n",
    "    rng = max - min\n",
    "    while True:\n",
    "        max += normalvariate(0, std)\n",
    "        yield abs((max % (rng * 2)) - rng) + min\n",
    "\n",
    "\n",
    "def market(t0=MARKET_OPEN):\n",
    "    \"\"\" Generates a random series of market conditions,\n",
    "        (time, price, spread).\n",
    "    \"\"\"\n",
    "    for hours, px, spd in zip(bwalk(*FREQ), bwalk(*PX), bwalk(*SPD)):\n",
    "        yield t0, px, spd\n",
    "        t0 += timedelta(hours=abs(hours))\n",
    "\n",
    "\n",
    "def orders(hist):\n",
    "    \"\"\" Generates a random set of limit orders (time, side, price, size) from\n",
    "        a series of market conditions.\n",
    "    \"\"\"\n",
    "    for t, px, spd in hist:\n",
    "        stock = 'ABC' if random() > 0.5 else 'DEF'\n",
    "        side, d = ('sell', 2) if random() > 0.5 else ('buy', -2)\n",
    "        order = round(normalvariate(px + (spd / d), spd / OVERLAP), 2)\n",
    "        size = int(abs(normalvariate(0, 100)))\n",
    "        yield t, stock, side, order, size\n"
   ]
  },
  {
   "cell_type": "markdown",
   "id": "fdf6d31a",
   "metadata": {
    "cell_marker": "################################################################################"
   },
   "source": [
    "\n",
    "Order Book"
   ]
  },
  {
   "cell_type": "code",
   "execution_count": 12,
   "id": "c82a993a",
   "metadata": {
    "lines_to_next_cell": 1
   },
   "outputs": [],
   "source": [
    "def add_book(book, order, size, _age=10):\n",
    "    \"\"\" Add a new order and size to a book, and age the rest of the book. \"\"\"\n",
    "    yield order, size, _age\n",
    "    for o, s, age in book:\n",
    "        if age > 0:\n",
    "            yield o, s, age - 1\n",
    "\n",
    "\n",
    "def clear_order(order, size, book, op=operator.ge, _notional=0):\n",
    "    \"\"\" Try to clear a sized order against a book, returning a tuple of\n",
    "        (notional, new_book) if successful, and None if not.  _notional is a\n",
    "        recursive accumulator and should not be provided by the caller.\n",
    "    \"\"\"\n",
    "    (top_order, top_size, age), tail = book[0], book[1:]\n",
    "    if op(order, top_order):\n",
    "        _notional += min(size, top_size) * top_order\n",
    "        sdiff = top_size - size\n",
    "        if sdiff > 0:\n",
    "            return _notional, list(add_book(tail, top_order, sdiff, age))\n",
    "        elif len(tail) > 0:\n",
    "            return clear_order(order, -sdiff, tail, op, _notional)\n",
    "\n",
    "\n",
    "def clear_book(buy=None, sell=None):\n",
    "    \"\"\" Clears all crossed orders from a buy and sell book, returning the new\n",
    "        books uncrossed.\n",
    "    \"\"\"\n",
    "    while buy and sell:\n",
    "        order, size, _ = buy[0]\n",
    "        new_book = clear_order(order, size, sell)\n",
    "        if new_book:\n",
    "            sell = new_book[1]\n",
    "            buy = buy[1:]\n",
    "        else:\n",
    "            break\n",
    "    return buy, sell\n",
    "\n",
    "\n",
    "def order_book(orders, book, stock_name):\n",
    "    \"\"\" Generates a series of order books from a series of orders.  Order books\n",
    "        are mutable lists, and mutating them during generation will affect the\n",
    "        next turn!\n",
    "    \"\"\"\n",
    "    for t, stock, side, order, size in orders:\n",
    "        if stock_name == stock:\n",
    "            new = add_book(book.get(side, []), order, size)\n",
    "            book[side] = sorted(new, reverse=side == 'buy', key=lambda x: x[0])\n",
    "        bids, asks = clear_book(**book)\n",
    "        yield t, bids, asks\n"
   ]
  },
  {
   "cell_type": "markdown",
   "id": "896976bf",
   "metadata": {
    "cell_marker": "################################################################################"
   },
   "source": [
    "\n",
    "Test Data Persistence"
   ]
  },
  {
   "cell_type": "code",
   "execution_count": 13,
   "id": "db768b0d",
   "metadata": {
    "lines_to_next_cell": 1
   },
   "outputs": [],
   "source": [
    "def generate_csv():\n",
    "    \"\"\" Generate a CSV of order history. \"\"\"\n",
    "    with open('test.csv', 'wb') as f:\n",
    "        writer = csv.writer(f)\n",
    "        for t, stock, side, order, size in orders(market()):\n",
    "            if t > MARKET_OPEN + SIM_LENGTH:\n",
    "                break\n",
    "            writer.writerow([t, stock, side, order, size])\n",
    "\n",
    "\n",
    "def read_csv():\n",
    "    \"\"\" Read a CSV or order history into a list. \"\"\"\n",
    "    with open('test.csv', 'rt') as f:\n",
    "        for time, stock, side, order, size in csv.reader(f):\n",
    "            yield dateutil.parser.parse(time), stock, side, float(order), int(size)\n"
   ]
  },
  {
   "cell_type": "markdown",
   "id": "dca44f5e",
   "metadata": {
    "cell_marker": "################################################################################"
   },
   "source": [
    "\n",
    "Server"
   ]
  },
  {
   "cell_type": "code",
   "execution_count": 14,
   "id": "364d556a",
   "metadata": {
    "lines_to_next_cell": 1
   },
   "outputs": [],
   "source": [
    "class ThreadedHTTPServer(ThreadingMixIn, http.server.HTTPServer):\n",
    "    \"\"\" Boilerplate class for a multithreaded HTTP Server, with working\n",
    "        shutdown.\n",
    "    \"\"\"\n",
    "    allow_reuse_address = True\n",
    "\n",
    "    def shutdown(self):\n",
    "        \"\"\" Override MRO to shutdown properly. \"\"\"\n",
    "        self.socket.close()\n",
    "        http.server.HTTPServer.shutdown(self)\n",
    "\n",
    "\n",
    "def route(path):\n",
    "    \"\"\" Decorator for a simple bottle-like web framework.  Routes path to the\n",
    "        decorated method, with the rest of the path as an argument.\n",
    "    \"\"\"\n",
    "\n",
    "    def _route(f):\n",
    "        setattr(f, '__route__', path)\n",
    "        return f\n",
    "\n",
    "    return _route\n",
    "\n",
    "\n",
    "def read_params(path):\n",
    "    \"\"\" Read query parameters into a dictionary if they are parseable,\n",
    "        otherwise returns None.\n",
    "    \"\"\"\n",
    "    query = path.split('?')\n",
    "    if len(query) > 1:\n",
    "        query = query[1].split('&')\n",
    "        return dict(map(lambda x: x.split('='), query))\n",
    "\n",
    "\n",
    "def get(req_handler, routes):\n",
    "    \"\"\" Map a request to the appropriate route of a routes instance. \"\"\"\n",
    "    for name, handler in routes.__class__.__dict__.items():\n",
    "        if hasattr(handler, \"__route__\"):\n",
    "            if None != re.search(handler.__route__, req_handler.path):\n",
    "                req_handler.send_response(200)\n",
    "                req_handler.send_header('Content-Type', 'application/json')\n",
    "                req_handler.send_header('Access-Control-Allow-Origin', '*')\n",
    "                req_handler.end_headers()\n",
    "                params = read_params(req_handler.path)\n",
    "                data = json.dumps(handler(routes, params)) + '\\n'\n",
    "                req_handler.wfile.write(bytes(data, encoding='utf-8'))\n",
    "                return\n",
    "\n",
    "\n",
    "def run(routes, host='0.0.0.0', port=8080):\n",
    "    \"\"\" Runs a class as a server whose methods have been decorated with\n",
    "        @route.\n",
    "    \"\"\"\n",
    "\n",
    "    class RequestHandler(http.server.BaseHTTPRequestHandler):\n",
    "        def log_message(self, *args, **kwargs):\n",
    "            pass\n",
    "\n",
    "        def do_GET(self):\n",
    "            get(self, routes)\n",
    "\n",
    "    server = ThreadedHTTPServer((host, port), RequestHandler)\n",
    "    thread = threading.Thread(target=server.serve_forever)\n",
    "    thread.daemon = True\n",
    "    thread.start()\n",
    "    print('HTTP server started on port 8080')\n",
    "    while True:\n",
    "        from time import sleep\n",
    "        sleep(1)\n",
    "    server.shutdown()\n",
    "    server.start()\n",
    "    server.waitForThread()\n"
   ]
  },
  {
   "cell_type": "markdown",
   "id": "9f17bd31",
   "metadata": {
    "cell_marker": "################################################################################"
   },
   "source": [
    "\n",
    "App"
   ]
  },
  {
   "cell_type": "code",
   "execution_count": 15,
   "id": "04e29332",
   "metadata": {
    "lines_to_next_cell": 1
   },
   "outputs": [],
   "source": [
    "ops = {\n",
    "    'buy': operator.le,\n",
    "    'sell': operator.ge,\n",
    "}\n",
    "\n",
    "\n",
    "class App(object):\n",
    "    \"\"\" The trading game server application. \"\"\"\n",
    "\n",
    "    def __init__(self):\n",
    "        self._book_1 = dict()\n",
    "        self._book_2 = dict()\n",
    "        self._data_1 = order_book(read_csv(), self._book_1, 'ABC')\n",
    "        self._data_2 = order_book(read_csv(), self._book_2, 'DEF')\n",
    "        self._rt_start = datetime.now()\n",
    "        self._sim_start, _, _ = next(self._data_1)\n",
    "        self.read_10_first_lines()\n",
    "\n",
    "    @property\n",
    "    def _current_book_1(self):\n",
    "        for t, bids, asks in self._data_1:\n",
    "            if REALTIME:\n",
    "                while t > self._sim_start + (datetime.now() - self._rt_start):\n",
    "                    yield t, bids, asks\n",
    "            else:\n",
    "                yield t, bids, asks\n",
    "\n",
    "    @property\n",
    "    def _current_book_2(self):\n",
    "        for t, bids, asks in self._data_2:\n",
    "            if REALTIME:\n",
    "                while t > self._sim_start + (datetime.now() - self._rt_start):\n",
    "                    yield t, bids, asks\n",
    "            else:\n",
    "                yield t, bids, asks\n",
    "\n",
    "    def read_10_first_lines(self):\n",
    "        for _ in iter(range(10)):\n",
    "            next(self._data_1)\n",
    "            next(self._data_2)\n",
    "\n",
    "    @route('/query')\n",
    "    def handle_query(self, x):\n",
    "        \"\"\" Takes no arguments, and yields the current top of the book;  the\n",
    "            best bid and ask and their sizes\n",
    "        \"\"\"\n",
    "        try:\n",
    "            t1, bids1, asks1 = next(self._current_book_1)\n",
    "            t2, bids2, asks2 = next(self._current_book_2)\n",
    "        except Exception as e:\n",
    "            print(\"error getting stocks...reinitalizing app\")\n",
    "            self.__init__()\n",
    "            t1, bids1, asks1 = next(self._current_book_1)\n",
    "            t2, bids2, asks2 = next(self._current_book_2)\n",
    "        t = t1 if t1 > t2 else t2\n",
    "        print('Query received @ t%s' % t)\n",
    "        return [{\n",
    "            'id': x and x.get('id', None),\n",
    "            'stock': 'ABC',\n",
    "            'timestamp': str(t),\n",
    "            'top_bid': bids1 and {\n",
    "                'price': bids1[0][0],\n",
    "                'size': bids1[0][1]\n",
    "            },\n",
    "            'top_ask': asks1 and {\n",
    "                'price': asks1[0][0],\n",
    "                'size': asks1[0][1]\n",
    "            }\n",
    "        },\n",
    "            {\n",
    "                'id': x and x.get('id', None),\n",
    "                'stock': 'DEF',\n",
    "                'timestamp': str(t),\n",
    "                'top_bid': bids2 and {\n",
    "                    'price': bids2[0][0],\n",
    "                    'size': bids2[0][1]\n",
    "                },\n",
    "                'top_ask': asks2 and {\n",
    "                    'price': asks2[0][0],\n",
    "                    'size': asks2[0][1]\n",
    "                }\n",
    "            }]\n"
   ]
  },
  {
   "cell_type": "markdown",
   "id": "f595f230",
   "metadata": {
    "cell_marker": "################################################################################"
   },
   "source": [
    "\n",
    "Main"
   ]
  },
  {
   "cell_type": "code",
   "execution_count": 16,
   "id": "b0bf39a1",
   "metadata": {},
   "outputs": [
    {
     "name": "stdout",
     "output_type": "stream",
     "text": [
      "HTTP server started on port 8080\n",
      "Query received @ t2019-03-14 21:42:08.012696\n",
      "Query received @ t2019-03-16 02:08:37.533436\n",
      "Query received @ t2019-03-16 23:04:36.166315\n",
      "Query received @ t2019-03-17 18:31:27.760441\n",
      "Query received @ t2019-03-18 12:38:13.606208\n",
      "Query received @ t2019-03-19 22:22:54.040153\n",
      "Query received @ t2019-03-20 23:02:25.850131\n",
      "Query received @ t2019-03-21 20:36:35.476887\n",
      "Query received @ t2019-03-22 09:43:03.471379\n",
      "Query received @ t2019-03-23 09:34:49.336990\n",
      "Query received @ t2019-03-23 22:04:26.812142\n",
      "Query received @ t2019-03-25 00:39:53.320423\n",
      "Query received @ t2019-03-26 06:01:58.895705\n",
      "Query received @ t2019-03-27 09:06:46.537723\n",
      "Query received @ t2019-03-28 13:44:48.249941\n",
      "Query received @ t2019-03-29 14:08:02.247788\n",
      "Query received @ t2019-03-30 04:50:16.044901\n",
      "Query received @ t2019-03-31 11:58:15.666679\n",
      "Query received @ t2019-04-01 11:55:24.073957\n",
      "Query received @ t2019-04-02 04:53:05.228984\n",
      "Query received @ t2019-04-02 20:23:26.130366\n",
      "Query received @ t2019-04-03 15:50:09.987424\n",
      "Query received @ t2019-04-04 12:52:41.254838\n",
      "Query received @ t2019-04-05 16:38:39.023546\n",
      "Query received @ t2019-04-06 12:41:48.755998\n",
      "Query received @ t2019-04-07 04:20:47.537559\n",
      "Query received @ t2019-04-08 11:05:03.621711\n",
      "Query received @ t2019-04-09 13:01:42.296983\n",
      "Query received @ t2019-04-10 21:05:44.760840\n",
      "Query received @ t2019-04-12 04:17:26.274648\n",
      "Query received @ t2019-04-13 08:44:06.013282\n",
      "Query received @ t2019-04-14 05:28:33.151392\n",
      "Query received @ t2019-04-15 09:42:14.426547\n",
      "Query received @ t2019-04-16 02:27:16.101261\n",
      "Query received @ t2019-04-16 19:15:07.422371\n"
     ]
    },
    {
     "ename": "KeyboardInterrupt",
     "evalue": "",
     "output_type": "error",
     "traceback": [
      "\u001b[1;31m---------------------------------------------------------------------------\u001b[0m",
      "\u001b[1;31mKeyboardInterrupt\u001b[0m                         Traceback (most recent call last)",
      "Cell \u001b[1;32mIn[16], line 5\u001b[0m\n\u001b[0;32m      3\u001b[0m     \u001b[38;5;28mprint\u001b[39m(\u001b[38;5;124m\"\u001b[39m\u001b[38;5;124mNo data found, generating...\u001b[39m\u001b[38;5;124m\"\u001b[39m)\n\u001b[0;32m      4\u001b[0m     generate_csv()\n\u001b[1;32m----> 5\u001b[0m run(App())\n",
      "Cell \u001b[1;32mIn[14], line 69\u001b[0m, in \u001b[0;36mrun\u001b[1;34m(routes, host, port)\u001b[0m\n\u001b[0;32m     67\u001b[0m \u001b[38;5;28;01mwhile\u001b[39;00m \u001b[38;5;28;01mTrue\u001b[39;00m:\n\u001b[0;32m     68\u001b[0m     \u001b[38;5;28;01mfrom\u001b[39;00m \u001b[38;5;21;01mtime\u001b[39;00m \u001b[38;5;28;01mimport\u001b[39;00m sleep\n\u001b[1;32m---> 69\u001b[0m     sleep(\u001b[38;5;241m1\u001b[39m)\n\u001b[0;32m     70\u001b[0m server\u001b[38;5;241m.\u001b[39mshutdown()\n\u001b[0;32m     71\u001b[0m server\u001b[38;5;241m.\u001b[39mstart()\n",
      "\u001b[1;31mKeyboardInterrupt\u001b[0m: "
     ]
    }
   ],
   "source": [
    "if __name__ == '__main__':\n",
    "    if not os.path.isfile('test.csv'):\n",
    "        print(\"No data found, generating...\")\n",
    "        generate_csv()\n",
    "    run(App())"
   ]
  },
  {
   "cell_type": "code",
   "execution_count": null,
   "id": "9d25cb66-690f-4ddb-934d-6faf899724fa",
   "metadata": {},
   "outputs": [],
   "source": []
  }
 ],
 "metadata": {
  "jupytext": {
   "cell_metadata_filter": "-all",
   "main_language": "python",
   "notebook_metadata_filter": "-all"
  },
  "kernelspec": {
   "display_name": "Python 3 (ipykernel)",
   "language": "python",
   "name": "python3"
  },
  "language_info": {
   "codemirror_mode": {
    "name": "ipython",
    "version": 3
   },
   "file_extension": ".py",
   "mimetype": "text/x-python",
   "name": "python",
   "nbconvert_exporter": "python",
   "pygments_lexer": "ipython3",
   "version": "3.12.4"
  }
 },
 "nbformat": 4,
 "nbformat_minor": 5
}
